{
 "cells": [
  {
   "cell_type": "markdown",
   "metadata": {},
   "source": [
    "# Ahmed Samy Ahmed\n",
    "\n",
    "# K Nearest Neighbour tutorial \n",
    "<hr>\n",
    "\n"
   ]
  },
  {
   "cell_type": "markdown",
   "metadata": {},
   "source": [
    "## * What we will discuss in this Notebook\n",
    "#### 1- The idea of the algorithm .\n",
    "#### 2- How to implement this algorithm in a simple and obvious way.\n",
    "#### 3- How to perform the ML pipeline method in a clear steps.\n",
    "#### 4- conclusion of what did i do to control the overfitting in my model"
   ]
  },
  {
   "cell_type": "markdown",
   "metadata": {},
   "source": [
    "# The idea of the algorithm \n",
    "   The k-nearest neighbors (KNN) algorithm is a simple, easy-to-implement supervised machine learning algorithm that can be used to solve both classification and regression problems.\n",
    "   "
   ]
  },
  {
   "cell_type": "markdown",
   "metadata": {},
   "source": [
    "![alt text](Capture2.png \"Title\")\n"
   ]
  },
  {
   "cell_type": "markdown",
   "metadata": {},
   "source": [
    "# How to implement this algorithm in a simple and obvious way\n",
    "   The KNN algorithm assumes that similar things exist in close proximity. In other words, similar things are near to each other.\n",
    "    The KNN algorithm hinges on this assumption being true enough for the algorithm to be useful. KNN captures the idea of similarity (sometimes called distance, proximity, or closeness) with some mathematics we might have learned in our childhood— calculating the distance between points.\n",
    "    "
   ]
  },
  {
   "cell_type": "markdown",
   "metadata": {},
   "source": [
    "![alt text](Capture3.png \"Title\" )\n"
   ]
  },
  {
   "cell_type": "markdown",
   "metadata": {},
   "source": [
    "# importing the libraries & Dataset :\n",
    "\n",
    "## Context\n",
    "This dataset was created as part of the Multimodal System project for a robotic assistant through reinforcement learning, where it was necessary to recognize when a student had a question.\n",
    "\n",
    "## Content\n",
    "The first 16 columns of the dataset correspond to the key points of the reconstruction of the human pose, obtained through the OpenPose network (https://github.com/CMU-Perceptual-Computing-Lab/openpose)\n",
    ", this information is normalized with respect to the size of the captured image. In the last column are the labels, which can be three:\n",
    "\n",
    "Stop\n",
    "Question\n",
    "None\n",
    "\n",
    "## Inspiration\n",
    "This dataset was designed to allow models to classify poses based on information obtained from networks capable of reconstructing poses such as OpenPose. In order to carry out educational-oriented applications"
   ]
  },
  {
   "cell_type": "code",
   "execution_count": 1,
   "metadata": {},
   "outputs": [
    {
     "data": {
      "text/html": [
       "<div>\n",
       "<style scoped>\n",
       "    .dataframe tbody tr th:only-of-type {\n",
       "        vertical-align: middle;\n",
       "    }\n",
       "\n",
       "    .dataframe tbody tr th {\n",
       "        vertical-align: top;\n",
       "    }\n",
       "\n",
       "    .dataframe thead th {\n",
       "        text-align: right;\n",
       "    }\n",
       "</style>\n",
       "<table border=\"1\" class=\"dataframe\">\n",
       "  <thead>\n",
       "    <tr style=\"text-align: right;\">\n",
       "      <th></th>\n",
       "      <th>0.478125</th>\n",
       "      <th>0.4125</th>\n",
       "      <th>0.434375</th>\n",
       "      <th>0.45625</th>\n",
       "      <th>0.45625.1</th>\n",
       "      <th>0.390625</th>\n",
       "      <th>0.390625.1</th>\n",
       "      <th>0</th>\n",
       "      <th>0.716666666666667</th>\n",
       "      <th>0.804166666666667</th>\n",
       "      <th>0.845833333333333</th>\n",
       "      <th>0.889583333333333</th>\n",
       "      <th>0.86875</th>\n",
       "      <th>0.78125</th>\n",
       "      <th>0.86875.1</th>\n",
       "      <th>0.1</th>\n",
       "      <th>2</th>\n",
       "    </tr>\n",
       "  </thead>\n",
       "  <tbody>\n",
       "    <tr>\n",
       "      <th>0</th>\n",
       "      <td>0.478125</td>\n",
       "      <td>0.412500</td>\n",
       "      <td>0.434375</td>\n",
       "      <td>0.456250</td>\n",
       "      <td>0.456250</td>\n",
       "      <td>0.390625</td>\n",
       "      <td>0.390625</td>\n",
       "      <td>0.434375</td>\n",
       "      <td>0.716667</td>\n",
       "      <td>0.804167</td>\n",
       "      <td>0.845833</td>\n",
       "      <td>0.889583</td>\n",
       "      <td>0.868750</td>\n",
       "      <td>0.781250</td>\n",
       "      <td>0.868750</td>\n",
       "      <td>0.825000</td>\n",
       "      <td>2</td>\n",
       "    </tr>\n",
       "    <tr>\n",
       "      <th>1</th>\n",
       "      <td>0.478125</td>\n",
       "      <td>0.412500</td>\n",
       "      <td>0.434375</td>\n",
       "      <td>0.456250</td>\n",
       "      <td>0.456250</td>\n",
       "      <td>0.390625</td>\n",
       "      <td>0.390625</td>\n",
       "      <td>0.434375</td>\n",
       "      <td>0.716667</td>\n",
       "      <td>0.804167</td>\n",
       "      <td>0.845833</td>\n",
       "      <td>0.889583</td>\n",
       "      <td>0.868750</td>\n",
       "      <td>0.781250</td>\n",
       "      <td>0.868750</td>\n",
       "      <td>0.825000</td>\n",
       "      <td>2</td>\n",
       "    </tr>\n",
       "    <tr>\n",
       "      <th>2</th>\n",
       "      <td>0.478125</td>\n",
       "      <td>0.412500</td>\n",
       "      <td>0.390625</td>\n",
       "      <td>0.456250</td>\n",
       "      <td>0.456250</td>\n",
       "      <td>0.390625</td>\n",
       "      <td>0.390625</td>\n",
       "      <td>0.000000</td>\n",
       "      <td>0.716667</td>\n",
       "      <td>0.804167</td>\n",
       "      <td>0.781250</td>\n",
       "      <td>0.889583</td>\n",
       "      <td>0.868750</td>\n",
       "      <td>0.781250</td>\n",
       "      <td>0.868750</td>\n",
       "      <td>0.000000</td>\n",
       "      <td>2</td>\n",
       "    </tr>\n",
       "    <tr>\n",
       "      <th>3</th>\n",
       "      <td>0.478125</td>\n",
       "      <td>0.412500</td>\n",
       "      <td>0.390625</td>\n",
       "      <td>0.456250</td>\n",
       "      <td>0.456250</td>\n",
       "      <td>0.390625</td>\n",
       "      <td>0.390625</td>\n",
       "      <td>0.000000</td>\n",
       "      <td>0.737500</td>\n",
       "      <td>0.804167</td>\n",
       "      <td>0.781250</td>\n",
       "      <td>0.889583</td>\n",
       "      <td>0.868750</td>\n",
       "      <td>0.781250</td>\n",
       "      <td>0.868750</td>\n",
       "      <td>0.000000</td>\n",
       "      <td>2</td>\n",
       "    </tr>\n",
       "    <tr>\n",
       "      <th>4</th>\n",
       "      <td>0.390625</td>\n",
       "      <td>0.390625</td>\n",
       "      <td>0.325000</td>\n",
       "      <td>0.303125</td>\n",
       "      <td>0.303125</td>\n",
       "      <td>0.434375</td>\n",
       "      <td>0.412500</td>\n",
       "      <td>0.412500</td>\n",
       "      <td>0.672917</td>\n",
       "      <td>0.781250</td>\n",
       "      <td>0.804167</td>\n",
       "      <td>0.868750</td>\n",
       "      <td>0.956250</td>\n",
       "      <td>0.804167</td>\n",
       "      <td>0.868750</td>\n",
       "      <td>0.912500</td>\n",
       "      <td>1</td>\n",
       "    </tr>\n",
       "    <tr>\n",
       "      <th>5</th>\n",
       "      <td>0.390625</td>\n",
       "      <td>0.368750</td>\n",
       "      <td>0.325000</td>\n",
       "      <td>0.303125</td>\n",
       "      <td>0.303125</td>\n",
       "      <td>0.434375</td>\n",
       "      <td>0.412500</td>\n",
       "      <td>0.412500</td>\n",
       "      <td>0.693750</td>\n",
       "      <td>0.781250</td>\n",
       "      <td>0.804167</td>\n",
       "      <td>0.868750</td>\n",
       "      <td>0.956250</td>\n",
       "      <td>0.804167</td>\n",
       "      <td>0.889583</td>\n",
       "      <td>0.933333</td>\n",
       "      <td>1</td>\n",
       "    </tr>\n",
       "    <tr>\n",
       "      <th>6</th>\n",
       "      <td>0.390625</td>\n",
       "      <td>0.368750</td>\n",
       "      <td>0.325000</td>\n",
       "      <td>0.303125</td>\n",
       "      <td>0.303125</td>\n",
       "      <td>0.434375</td>\n",
       "      <td>0.412500</td>\n",
       "      <td>0.412500</td>\n",
       "      <td>0.693750</td>\n",
       "      <td>0.781250</td>\n",
       "      <td>0.804167</td>\n",
       "      <td>0.868750</td>\n",
       "      <td>0.956250</td>\n",
       "      <td>0.804167</td>\n",
       "      <td>0.889583</td>\n",
       "      <td>0.956250</td>\n",
       "      <td>1</td>\n",
       "    </tr>\n",
       "    <tr>\n",
       "      <th>7</th>\n",
       "      <td>0.412500</td>\n",
       "      <td>0.390625</td>\n",
       "      <td>0.346875</td>\n",
       "      <td>0.303125</td>\n",
       "      <td>0.346875</td>\n",
       "      <td>0.434375</td>\n",
       "      <td>0.456250</td>\n",
       "      <td>0.456250</td>\n",
       "      <td>0.672917</td>\n",
       "      <td>0.781250</td>\n",
       "      <td>0.804167</td>\n",
       "      <td>0.912500</td>\n",
       "      <td>0.956250</td>\n",
       "      <td>0.804167</td>\n",
       "      <td>0.889583</td>\n",
       "      <td>0.912500</td>\n",
       "      <td>2</td>\n",
       "    </tr>\n",
       "    <tr>\n",
       "      <th>8</th>\n",
       "      <td>0.412500</td>\n",
       "      <td>0.390625</td>\n",
       "      <td>0.346875</td>\n",
       "      <td>0.325000</td>\n",
       "      <td>0.346875</td>\n",
       "      <td>0.434375</td>\n",
       "      <td>0.456250</td>\n",
       "      <td>0.456250</td>\n",
       "      <td>0.672917</td>\n",
       "      <td>0.781250</td>\n",
       "      <td>0.804167</td>\n",
       "      <td>0.912500</td>\n",
       "      <td>0.933333</td>\n",
       "      <td>0.804167</td>\n",
       "      <td>0.889583</td>\n",
       "      <td>0.933333</td>\n",
       "      <td>1</td>\n",
       "    </tr>\n",
       "    <tr>\n",
       "      <th>9</th>\n",
       "      <td>0.412500</td>\n",
       "      <td>0.390625</td>\n",
       "      <td>0.346875</td>\n",
       "      <td>0.325000</td>\n",
       "      <td>0.346875</td>\n",
       "      <td>0.434375</td>\n",
       "      <td>0.456250</td>\n",
       "      <td>0.456250</td>\n",
       "      <td>0.672917</td>\n",
       "      <td>0.781250</td>\n",
       "      <td>0.804167</td>\n",
       "      <td>0.912500</td>\n",
       "      <td>0.933333</td>\n",
       "      <td>0.804167</td>\n",
       "      <td>0.889583</td>\n",
       "      <td>0.956250</td>\n",
       "      <td>1</td>\n",
       "    </tr>\n",
       "  </tbody>\n",
       "</table>\n",
       "</div>"
      ],
      "text/plain": [
       "   0.478125    0.4125  0.434375   0.45625  0.45625.1  0.390625  0.390625.1  \\\n",
       "0  0.478125  0.412500  0.434375  0.456250   0.456250  0.390625    0.390625   \n",
       "1  0.478125  0.412500  0.434375  0.456250   0.456250  0.390625    0.390625   \n",
       "2  0.478125  0.412500  0.390625  0.456250   0.456250  0.390625    0.390625   \n",
       "3  0.478125  0.412500  0.390625  0.456250   0.456250  0.390625    0.390625   \n",
       "4  0.390625  0.390625  0.325000  0.303125   0.303125  0.434375    0.412500   \n",
       "5  0.390625  0.368750  0.325000  0.303125   0.303125  0.434375    0.412500   \n",
       "6  0.390625  0.368750  0.325000  0.303125   0.303125  0.434375    0.412500   \n",
       "7  0.412500  0.390625  0.346875  0.303125   0.346875  0.434375    0.456250   \n",
       "8  0.412500  0.390625  0.346875  0.325000   0.346875  0.434375    0.456250   \n",
       "9  0.412500  0.390625  0.346875  0.325000   0.346875  0.434375    0.456250   \n",
       "\n",
       "          0  0.716666666666667  0.804166666666667  0.845833333333333  \\\n",
       "0  0.434375           0.716667           0.804167           0.845833   \n",
       "1  0.434375           0.716667           0.804167           0.845833   \n",
       "2  0.000000           0.716667           0.804167           0.781250   \n",
       "3  0.000000           0.737500           0.804167           0.781250   \n",
       "4  0.412500           0.672917           0.781250           0.804167   \n",
       "5  0.412500           0.693750           0.781250           0.804167   \n",
       "6  0.412500           0.693750           0.781250           0.804167   \n",
       "7  0.456250           0.672917           0.781250           0.804167   \n",
       "8  0.456250           0.672917           0.781250           0.804167   \n",
       "9  0.456250           0.672917           0.781250           0.804167   \n",
       "\n",
       "   0.889583333333333   0.86875   0.78125  0.86875.1       0.1  2  \n",
       "0           0.889583  0.868750  0.781250   0.868750  0.825000  2  \n",
       "1           0.889583  0.868750  0.781250   0.868750  0.825000  2  \n",
       "2           0.889583  0.868750  0.781250   0.868750  0.000000  2  \n",
       "3           0.889583  0.868750  0.781250   0.868750  0.000000  2  \n",
       "4           0.868750  0.956250  0.804167   0.868750  0.912500  1  \n",
       "5           0.868750  0.956250  0.804167   0.889583  0.933333  1  \n",
       "6           0.868750  0.956250  0.804167   0.889583  0.956250  1  \n",
       "7           0.912500  0.956250  0.804167   0.889583  0.912500  2  \n",
       "8           0.912500  0.933333  0.804167   0.889583  0.933333  1  \n",
       "9           0.912500  0.933333  0.804167   0.889583  0.956250  1  "
      ]
     },
     "execution_count": 1,
     "metadata": {},
     "output_type": "execute_result"
    }
   ],
   "source": [
    "# Importing data\n",
    "import pandas as pd\n",
    "import numpy as np\n",
    "import matplotlib.pyplot as plt \n",
    "from  collections import Counter\n",
    "import seaborn as sns\n",
    "\n",
    "df = pd.read_csv('Dataset.csv')\n",
    "df.head(10)"
   ]
  },
  {
   "cell_type": "markdown",
   "metadata": {},
   "source": [
    "# The above dataset express a pictures like this..\n",
    "*Depending on these numbers ,we can recognize the pose of a person( Running ,standing , setting ,etc... )*\n",
    "![alt text](Capture.png \"Title\" )\n"
   ]
  },
  {
   "cell_type": "code",
   "execution_count": 2,
   "metadata": {},
   "outputs": [
    {
     "data": {
      "text/plain": [
       "(1086, 17)"
      ]
     },
     "execution_count": 2,
     "metadata": {},
     "output_type": "execute_result"
    }
   ],
   "source": [
    "df.shape"
   ]
  },
  {
   "cell_type": "code",
   "execution_count": 3,
   "metadata": {},
   "outputs": [],
   "source": [
    "# Replace spaces in the column names with underscore\n",
    "df = df.rename({'2': 'Result_pose'}, axis=1)  # new method\n"
   ]
  },
  {
   "cell_type": "code",
   "execution_count": 4,
   "metadata": {},
   "outputs": [
    {
     "name": "stdout",
     "output_type": "stream",
     "text": [
      "<class 'pandas.core.frame.DataFrame'>\n",
      "RangeIndex: 1086 entries, 0 to 1085\n",
      "Data columns (total 17 columns):\n",
      " #   Column             Non-Null Count  Dtype  \n",
      "---  ------             --------------  -----  \n",
      " 0   0.478125           1086 non-null   float64\n",
      " 1   0.4125             1086 non-null   float64\n",
      " 2   0.434375           1086 non-null   float64\n",
      " 3   0.45625            1086 non-null   float64\n",
      " 4   0.45625.1          1086 non-null   float64\n",
      " 5   0.390625           1086 non-null   float64\n",
      " 6   0.390625.1         1086 non-null   float64\n",
      " 7   0                  1086 non-null   float64\n",
      " 8   0.716666666666667  1086 non-null   float64\n",
      " 9   0.804166666666667  1086 non-null   float64\n",
      " 10  0.845833333333333  1086 non-null   float64\n",
      " 11  0.889583333333333  1086 non-null   float64\n",
      " 12  0.86875            1086 non-null   float64\n",
      " 13  0.78125            1086 non-null   float64\n",
      " 14  0.86875.1          1086 non-null   float64\n",
      " 15  0.1                1086 non-null   float64\n",
      " 16  Result_pose        1086 non-null   int64  \n",
      "dtypes: float64(16), int64(1)\n",
      "memory usage: 144.4 KB\n"
     ]
    }
   ],
   "source": [
    "df.info()"
   ]
  },
  {
   "cell_type": "markdown",
   "metadata": {},
   "source": [
    "# Numerical data distribution\n",
    "For this part lets look at the distribution of all of the features by ploting them"
   ]
  },
  {
   "cell_type": "code",
   "execution_count": 5,
   "metadata": {},
   "outputs": [
    {
     "data": {
      "image/png": "[encoded data removed]",
      "text/plain": [
       "<Figure size 1152x1440 with 20 Axes>"
      ]
     },
     "metadata": {
      "needs_background": "light"
     },
     "output_type": "display_data"
    }
   ],
   "source": [
    "df.hist(figsize=(16, 20), bins=50, xlabelsize=8, ylabelsize=8); "
   ]
  },
  {
   "cell_type": "code",
   "execution_count": 6,
   "metadata": {},
   "outputs": [
    {
     "data": {
      "image/png": "[encoded data removed]",
      "text/plain": [
       "<Figure size 576x360 with 1 Axes>"
      ]
     },
     "metadata": {
      "needs_background": "light"
     },
     "output_type": "display_data"
    }
   ],
   "source": [
    "# Checking the nature of data set: balanced or imbalanced?\n",
    "fig = plt.figure(figsize = (8,5))\n",
    "df.Result_pose.value_counts(normalize = True).plot(kind='bar', color= ['darkorange','steelblue','red'], alpha = 0.9, rot=0)\n",
    "plt.title('STOP - Question - None')\n",
    "plt.show()"
   ]
  },
  {
   "cell_type": "markdown",
   "metadata": {},
   "source": [
    "The above Histogram shows a distribution of around 50% : 30% : 20% between STOP - Question - None poses respectively. So the data is quite balanced and it does not require any special treatment/resampling.\n",
    "\n",
    "# Handling of Missing Data"
   ]
  },
  {
   "cell_type": "code",
   "execution_count": 7,
   "metadata": {},
   "outputs": [
    {
     "data": {
      "text/html": [
       "<div>\n",
       "<style scoped>\n",
       "    .dataframe tbody tr th:only-of-type {\n",
       "        vertical-align: middle;\n",
       "    }\n",
       "\n",
       "    .dataframe tbody tr th {\n",
       "        vertical-align: top;\n",
       "    }\n",
       "\n",
       "    .dataframe thead th {\n",
       "        text-align: right;\n",
       "    }\n",
       "</style>\n",
       "<table border=\"1\" class=\"dataframe\">\n",
       "  <thead>\n",
       "    <tr style=\"text-align: right;\">\n",
       "      <th></th>\n",
       "      <th>Total</th>\n",
       "      <th>Percent</th>\n",
       "    </tr>\n",
       "  </thead>\n",
       "  <tbody>\n",
       "    <tr>\n",
       "      <th>Result_pose</th>\n",
       "      <td>0</td>\n",
       "      <td>0.0</td>\n",
       "    </tr>\n",
       "    <tr>\n",
       "      <th>0</th>\n",
       "      <td>0</td>\n",
       "      <td>0.0</td>\n",
       "    </tr>\n",
       "    <tr>\n",
       "      <th>0.4125</th>\n",
       "      <td>0</td>\n",
       "      <td>0.0</td>\n",
       "    </tr>\n",
       "    <tr>\n",
       "      <th>0.434375</th>\n",
       "      <td>0</td>\n",
       "      <td>0.0</td>\n",
       "    </tr>\n",
       "    <tr>\n",
       "      <th>0.45625</th>\n",
       "      <td>0</td>\n",
       "      <td>0.0</td>\n",
       "    </tr>\n",
       "  </tbody>\n",
       "</table>\n",
       "</div>"
      ],
      "text/plain": [
       "             Total  Percent\n",
       "Result_pose      0      0.0\n",
       "0                0      0.0\n",
       "0.4125           0      0.0\n",
       "0.434375         0      0.0\n",
       "0.45625          0      0.0"
      ]
     },
     "execution_count": 7,
     "metadata": {},
     "output_type": "execute_result"
    }
   ],
   "source": [
    "# Missing data\n",
    "total = df.isnull().sum().sort_values(ascending=False)\n",
    "percent = (df.isnull().sum()/df.isnull().count()).sort_values(ascending=False)\n",
    "missing = pd.concat([total, percent], axis=1, keys=['Total', 'Percent'])\n",
    "missing.head()"
   ]
  },
  {
   "cell_type": "code",
   "execution_count": 8,
   "metadata": {},
   "outputs": [
    {
     "data": {
      "text/plain": [
       "Index([], dtype='object')"
      ]
     },
     "execution_count": 8,
     "metadata": {},
     "output_type": "execute_result"
    }
   ],
   "source": [
    "# Check the list of categorical variables\n",
    "df.select_dtypes(include=['object']).columns"
   ]
  },
  {
   "cell_type": "code",
   "execution_count": 9,
   "metadata": {},
   "outputs": [
    {
     "data": {
      "text/plain": [
       "Index(['0.478125', '0.4125', '0.434375', '0.45625', '0.45625.1', '0.390625',\n",
       "       '0.390625.1', '0', '0.716666666666667', '0.804166666666667',\n",
       "       '0.845833333333333', '0.889583333333333', '0.86875', '0.78125',\n",
       "       '0.86875.1', '0.1', 'Result_pose'],\n",
       "      dtype='object')"
      ]
     },
     "execution_count": 9,
     "metadata": {},
     "output_type": "execute_result"
    }
   ],
   "source": [
    "df.columns"
   ]
  },
  {
   "cell_type": "markdown",
   "metadata": {},
   "source": [
    "# Outliers Detection and Removal"
   ]
  },
  {
   "cell_type": "code",
   "execution_count": 10,
   "metadata": {},
   "outputs": [
    {
     "name": "stdout",
     "output_type": "stream",
     "text": [
      "0.478125             0.195312\n",
      "0.4125               0.195312\n",
      "0.434375             0.217187\n",
      "0.45625              0.195313\n",
      "0.45625.1            0.195312\n",
      "0.390625             0.217187\n",
      "0.390625.1           0.173438\n",
      "0                    0.129687\n",
      "0.716666666666667    0.020833\n",
      "0.804166666666667    0.043750\n",
      "0.845833333333333    0.043750\n",
      "0.889583333333333    0.131250\n",
      "0.86875              0.237500\n",
      "0.78125              0.043750\n",
      "0.86875.1            0.108333\n",
      "0.1                  0.195833\n",
      "Result_pose          1.000000\n",
      "dtype: float64\n"
     ]
    }
   ],
   "source": [
    "Q1 = df.quantile(0.25)\n",
    "Q3 = df.quantile(0.75)\n",
    "IQR = Q3 - Q1\n",
    "print(IQR)"
   ]
  },
  {
   "cell_type": "code",
   "execution_count": 11,
   "metadata": {},
   "outputs": [
    {
     "data": {
      "text/plain": [
       "(696, 17)"
      ]
     },
     "execution_count": 11,
     "metadata": {},
     "output_type": "execute_result"
    }
   ],
   "source": [
    "# Removing outliers from dataset\n",
    "df = df[~((df < (Q1 - 1.5 * IQR)) |(df > (Q3 + 1.5 * IQR))).any(axis=1)]\n",
    "df.shape"
   ]
  },
  {
   "cell_type": "markdown",
   "metadata": {},
   "source": [
    "# Correlation among Features\n",
    "Trying to plot all the numerical features in a seaborn pairplot will take us too much time and will be hard to interpret. We can try to see if some variables are linked between each other and then explain their relation with common sense."
   ]
  },
  {
   "cell_type": "code",
   "execution_count": 12,
   "metadata": {},
   "outputs": [
    {
     "data": {
      "image/png": "[encoded data removed]",
      "text/plain": [
       "<Figure size 864x720 with 2 Axes>"
      ]
     },
     "metadata": {
      "needs_background": "light"
     },
     "output_type": "display_data"
    }
   ],
   "source": [
    "corr = df.drop('Result_pose', axis=1).corr() # We already examined SalePrice correlations\n",
    "plt.figure(figsize=(12, 10))\n",
    "\n",
    "sns.heatmap(corr[(corr >= 0.5) | (corr <= -0.4)], \n",
    "            cmap='viridis', vmax=1.0, vmin=-1.0, linewidths=0.1,\n",
    "            annot=True, annot_kws={\"size\": 8}, square=True);"
   ]
  },
  {
   "cell_type": "markdown",
   "metadata": {},
   "source": [
    "# Top 10 Feature Selection through Chi-Square"
   ]
  },
  {
   "cell_type": "code",
   "execution_count": 13,
   "metadata": {},
   "outputs": [
    {
     "name": "stdout",
     "output_type": "stream",
     "text": [
      "Index(['0.434375', '0.45625', '0.45625.1', '0.390625', '0.390625.1', '0',\n",
      "       '0.889583333333333', '0.86875', '0.86875.1', '0.1'],\n",
      "      dtype='object')\n"
     ]
    }
   ],
   "source": [
    "from sklearn.feature_selection import SelectKBest, chi2\n",
    "X = df.loc[:,df.columns!='Result_pose']\n",
    "y = df[['Result_pose']]\n",
    "selector = SelectKBest(chi2, k=10)\n",
    "selector.fit(X, y)\n",
    "X_new = selector.transform(X)\n",
    "print(X.columns[selector.get_support(indices=True)])"
   ]
  },
  {
   "cell_type": "markdown",
   "metadata": {},
   "source": [
    "These are top 10 features impacting on Human pose. We will check feature importance with other methods as well.\n",
    "# Feature Importance using Wrapper Method"
   ]
  },
  {
   "cell_type": "code",
   "execution_count": 14,
   "metadata": {},
   "outputs": [
    {
     "name": "stdout",
     "output_type": "stream",
     "text": [
      "['0.889583333333333', '0.86875', '0.86875.1', '0.1']\n",
      "[0.01914883 0.02152261 0.0278667  0.02674261 0.02890094 0.02772598\n",
      " 0.03568939 0.03896945 0.00871142 0.01108119 0.02126167 0.10662688\n",
      " 0.22327256 0.02288725 0.12420459 0.25538792]\n"
     ]
    }
   ],
   "source": [
    "from sklearn.feature_selection import SelectFromModel\n",
    "from sklearn.ensemble import RandomForestClassifier as rf\n",
    "\n",
    "X = df.drop('Result_pose', axis=1)\n",
    "y = df['Result_pose']\n",
    "selector = SelectFromModel(rf(n_estimators=100, random_state=0))\n",
    "selector.fit(X, y)\n",
    "support = selector.get_support()\n",
    "features = X.loc[:,support].columns.tolist()\n",
    "print(features)\n",
    "print(rf(n_estimators=100, random_state=0).fit(X,y).feature_importances_)"
   ]
  },
  {
   "cell_type": "code",
   "execution_count": 15,
   "metadata": {},
   "outputs": [
    {
     "data": {
      "text/plain": [
       "Index(['0.478125', '0.4125', '0.434375', '0.45625', '0.45625.1', '0.390625',\n",
       "       '0.390625.1', '0', '0.716666666666667', '0.804166666666667',\n",
       "       '0.845833333333333', '0.889583333333333', '0.86875', '0.78125',\n",
       "       '0.86875.1', '0.1', 'Result_pose'],\n",
       "      dtype='object')"
      ]
     },
     "execution_count": 15,
     "metadata": {},
     "output_type": "execute_result"
    }
   ],
   "source": [
    "df.columns"
   ]
  },
  {
   "cell_type": "code",
   "execution_count": 16,
   "metadata": {},
   "outputs": [],
   "source": [
    "Best_features=['0.434375', '0.45625', '0.45625.1', '0.390625', '0.390625.1', '0',\n",
    "       '0.889583333333333', '0.86875', '0.86875.1', '0.1']"
   ]
  },
  {
   "cell_type": "code",
   "execution_count": 17,
   "metadata": {},
   "outputs": [],
   "source": [
    "#x= df[Best_features]\n",
    "x=df.drop(['Result_pose'],axis=1)\n",
    "y=df['Result_pose']\n",
    "from sklearn.model_selection import train_test_split\n",
    "X_train, X_test, y_train, y_test = train_test_split(x, y, random_state=0,test_size=0.3)"
   ]
  },
  {
   "cell_type": "markdown",
   "metadata": {},
   "source": [
    "# 1- Model using sklearn"
   ]
  },
  {
   "cell_type": "code",
   "execution_count": 18,
   "metadata": {},
   "outputs": [
    {
     "name": "stdout",
     "output_type": "stream",
     "text": [
      "acc_train=  1.0\n",
      "acc_test=  0.9569377990430622\n",
      "\n",
      "\n",
      "acc_train=  0.9568788501026694\n",
      "acc_test=  0.9330143540669856\n",
      "\n",
      "\n",
      "acc_train=  0.9527720739219713\n",
      "acc_test=  0.9282296650717703\n",
      "\n",
      "\n",
      "acc_train=  0.9404517453798767\n",
      "acc_test=  0.9234449760765551\n",
      "\n",
      "\n",
      "acc_train=  0.9219712525667351\n",
      "acc_test=  0.9043062200956937\n",
      "\n",
      "\n",
      "acc_train=  0.9137577002053389\n",
      "acc_test=  0.8708133971291866\n",
      "\n",
      "\n",
      "acc_train=  0.8993839835728953\n",
      "acc_test=  0.8564593301435407\n",
      "\n",
      "\n",
      "acc_train=  0.8973305954825462\n",
      "acc_test=  0.8564593301435407\n",
      "\n",
      "\n",
      "acc_train=  0.8850102669404517\n",
      "acc_test=  0.861244019138756\n",
      "\n",
      "\n"
     ]
    }
   ],
   "source": [
    "from sklearn.neighbors import KNeighborsClassifier\n",
    "from sklearn.metrics import accuracy_score , classification_report\n",
    "\n",
    "for i in [1,3,4,5,7,9,11,13,15]:\n",
    "    neigh = KNeighborsClassifier(n_neighbors=i)\n",
    "\n",
    "    neigh.fit(X_train , y_train)\n",
    "    test_preds = (neigh.predict(X_test))\n",
    "    train_preds = (neigh.predict(X_train))\n",
    "\n",
    "    print(\"acc_train= \" ,  accuracy_score(y_train, train_preds))\n",
    "    print(\"acc_test= \" ,  accuracy_score(y_test, test_preds))\n",
    "    print('\\n')\n",
    "    #print(\"Report= \" ,  classification_report(y_test, test_preds))\n"
   ]
  },
  {
   "cell_type": "markdown",
   "metadata": {},
   "source": [
    "# Cross validation"
   ]
  },
  {
   "cell_type": "code",
   "execution_count": 19,
   "metadata": {},
   "outputs": [
    {
     "name": "stdout",
     "output_type": "stream",
     "text": [
      "[0.83571429 0.76258993 0.81294964 0.8057554  0.87769784]\n",
      "cv_scores mean:0.8189414182939363\n"
     ]
    }
   ],
   "source": [
    "x= df[Best_features]\n",
    "#x= (df.drop(['Result_pose'],axis=1))\n",
    "y= (df['Result_pose'])\n",
    "\n",
    "from sklearn.model_selection import cross_val_score\n",
    "#create a new KNN model\n",
    "knn_cv = KNeighborsClassifier(n_neighbors=4)\n",
    "#train model with cv of 5 \n",
    "cv_scores = cross_val_score(knn_cv, x, y, cv=5)\n",
    "#print each cv score (accuracy) and average them\n",
    "print(cv_scores)\n",
    "print('cv_scores mean:{}'.format(np.mean(cv_scores)))"
   ]
  },
  {
   "cell_type": "markdown",
   "metadata": {},
   "source": [
    "# Grid search"
   ]
  },
  {
   "cell_type": "code",
   "execution_count": 20,
   "metadata": {},
   "outputs": [
    {
     "name": "stdout",
     "output_type": "stream",
     "text": [
      "{'n_neighbors': 4}\n",
      "0.8189414182939363\n"
     ]
    }
   ],
   "source": [
    "from sklearn.model_selection import GridSearchCV\n",
    "#create new a knn model\n",
    "knn2 = KNeighborsClassifier()\n",
    "#create a dictionary of all values we want to test for n_neighbors\n",
    "param_grid = {'n_neighbors': np.arange(1, 25)}\n",
    "#use gridsearch to test all values for n_neighbors\n",
    "knn_gscv = GridSearchCV(knn2, param_grid, cv=5)\n",
    "#fit model to data\n",
    "knn_gscv.fit(x, y)\n",
    "\n",
    "#check top performing n_neighbors value\n",
    "print(knn_gscv.best_params_)\n",
    "\n",
    "#check mean score for the top performing value of n_neighbors\n",
    "print(knn_gscv.best_score_)"
   ]
  },
  {
   "cell_type": "markdown",
   "metadata": {},
   "source": [
    "# 2- Model of my own implementation"
   ]
  },
  {
   "cell_type": "code",
   "execution_count": 21,
   "metadata": {},
   "outputs": [],
   "source": [
    "class KNN:\n",
    "    def __init__(self, k=3):\n",
    "        self.k = k\n",
    "\n",
    "    def fit(self, X_train, y_train):\n",
    "        self.X_train = np.array(X_train)\n",
    "        self.y_train = np.array(y_train)\n",
    "\n",
    "    def predict(self, X_test):\n",
    "        X_test = np.array(X_test)\n",
    "        y_pred = [self._predict(x) for x in X_test] \n",
    "        return np.array(y_pred)\n",
    "\n",
    "    def _predict(self, X_test):\n",
    "        # Compute distances between X_test and all examples in the training set\n",
    "        distances = [self.euclidean_distance(X_test, x_train) for x_train in self.X_train]\n",
    "        # Sort by distance and return indices of the first k neighbors\n",
    "        k_idx = np.argsort(distances)[: self.k]\n",
    "        # Extract the labels of the k nearest neighbor training samples\n",
    "        k_neighbor_labels = [self.y_train[i] for i in k_idx]\n",
    "        # return the most common class label\n",
    "        most_common = Counter(k_neighbor_labels).most_common(1)[0][0]\n",
    "        return most_common\n",
    "    \n",
    "    def euclidean_distance(self,x_test, x_train):\n",
    "        # Compute Euclidean distances between X_test and all examples in the training set\n",
    "        return np.sqrt(np.sum((x_test - x_train) ** 2))\n",
    "\n",
    "    def accuracy(self,y_true, y_pred):\n",
    "        accuracy = np.sum(y_true == y_pred) / len(y_true)\n",
    "        return accuracy"
   ]
  },
  {
   "cell_type": "markdown",
   "metadata": {},
   "source": [
    "#### Using all given Features "
   ]
  },
  {
   "cell_type": "code",
   "execution_count": 22,
   "metadata": {},
   "outputs": [
    {
     "name": "stdout",
     "output_type": "stream",
     "text": [
      "Train classification accuracy 0.9694244604316546\n",
      "Test classification accuracy 0.95\n"
     ]
    }
   ],
   "source": [
    "#x= df[Best_features]    \n",
    "x=df.drop(['Result_pose'],axis=1)\n",
    "y=df['Result_pose']\n",
    "from sklearn.model_selection import train_test_split\n",
    "X_train, X_test, y_train, y_test = train_test_split(x, y, random_state=0,test_size=0.2)\n",
    "\n",
    "knn2 = KNN(k=4)\n",
    "knn2.fit(X_train, y_train)\n",
    "train_preds = knn2.predict(X_train)\n",
    "test_preds = knn2.predict(X_test)\n",
    "\n",
    "print(\"Train classification accuracy\", knn2.accuracy(y_train, train_preds))\n",
    "print(\"Test classification accuracy\", knn2.accuracy(y_test, test_preds))"
   ]
  },
  {
   "cell_type": "markdown",
   "metadata": {},
   "source": [
    "#### Using only extracted Features "
   ]
  },
  {
   "cell_type": "code",
   "execution_count": 23,
   "metadata": {},
   "outputs": [
    {
     "name": "stdout",
     "output_type": "stream",
     "text": [
      "Train classification accuracy 0.9676258992805755\n",
      "Test classification accuracy 0.9642857142857143\n",
      "Best Fitting\n"
     ]
    }
   ],
   "source": [
    "x= df[Best_features]    \n",
    "#x=df.drop(['Result_pose'],axis=1)\n",
    "y=df['Result_pose']\n",
    "from sklearn.model_selection import train_test_split\n",
    "X_train, X_test, y_train, y_test = train_test_split(x, y, random_state=0,test_size=0.2)\n",
    "\n",
    "knn2 = KNN(k=4)\n",
    "knn2.fit(X_train, y_train)\n",
    "train_preds = knn2.predict(X_train)\n",
    "test_preds = knn2.predict(X_test)\n",
    "\n",
    "print(\"Train classification accuracy\", knn2.accuracy(y_train, train_preds))\n",
    "print(\"Test classification accuracy\", knn2.accuracy(y_test, test_preds))\n",
    "print(\"Best Fitting\")"
   ]
  },
  {
   "cell_type": "code",
   "execution_count": 24,
   "metadata": {},
   "outputs": [
    {
     "name": "stdout",
     "output_type": "stream",
     "text": [
      "[[45  1  0]\n",
      " [ 0 61  1]\n",
      " [ 0  3 29]]\n",
      "Report=                precision    recall  f1-score   support\n",
      "\n",
      "           0       1.00      0.98      0.99        46\n",
      "           1       0.94      0.98      0.96        62\n",
      "           2       0.97      0.91      0.94        32\n",
      "\n",
      "    accuracy                           0.96       140\n",
      "   macro avg       0.97      0.96      0.96       140\n",
      "weighted avg       0.97      0.96      0.96       140\n",
      "\n"
     ]
    }
   ],
   "source": [
    "from sklearn.metrics import confusion_matrix\n",
    "confusion = confusion_matrix(y_test, test_preds)\n",
    "print(confusion)\n",
    "print(\"Report= \" ,  classification_report(y_test, test_preds))"
   ]
  },
  {
   "cell_type": "markdown",
   "metadata": {},
   "source": [
    "#### Same as the above cell ,But with different ratio of train test Spliting..."
   ]
  },
  {
   "cell_type": "markdown",
   "metadata": {},
   "source": [
    "## When increase the testing data to be 30% of the Whole Dataset"
   ]
  },
  {
   "cell_type": "code",
   "execution_count": 25,
   "metadata": {},
   "outputs": [
    {
     "name": "stdout",
     "output_type": "stream",
     "text": [
      "Train classification accuracy 0.9630390143737166\n",
      "Test classification accuracy 0.9330143540669856\n",
      "# overfitting increased\n"
     ]
    }
   ],
   "source": [
    "x= df[Best_features]    \n",
    "#x=df.drop(['Result_pose'],axis=1)\n",
    "y=df['Result_pose']\n",
    "from sklearn.model_selection import train_test_split\n",
    "X_train, X_test, y_train, y_test = train_test_split(x, y, random_state=0,test_size=0.3)\n",
    "\n",
    "knn2 = KNN(k=4)\n",
    "knn2.fit(X_train, y_train)\n",
    "train_preds = knn2.predict(X_train)\n",
    "test_preds = knn2.predict(X_test)\n",
    "\n",
    "print(\"Train classification accuracy\", knn2.accuracy(y_train, train_preds))\n",
    "print(\"Test classification accuracy\", knn2.accuracy(y_test, test_preds))\n",
    "print('# overfitting increased')"
   ]
  },
  {
   "cell_type": "code",
   "execution_count": 26,
   "metadata": {},
   "outputs": [
    {
     "name": "stdout",
     "output_type": "stream",
     "text": [
      "[[64  3  0]\n",
      " [ 0 85  1]\n",
      " [ 0 10 46]]\n",
      "Report=                precision    recall  f1-score   support\n",
      "\n",
      "           0       1.00      0.96      0.98        67\n",
      "           1       0.87      0.99      0.92        86\n",
      "           2       0.98      0.82      0.89        56\n",
      "\n",
      "    accuracy                           0.93       209\n",
      "   macro avg       0.95      0.92      0.93       209\n",
      "weighted avg       0.94      0.93      0.93       209\n",
      "\n"
     ]
    }
   ],
   "source": [
    "from sklearn.metrics import confusion_matrix\n",
    "confusion = confusion_matrix(y_test, test_preds)\n",
    "print(confusion)\n",
    "print(\"Report= \" ,  classification_report(y_test, test_preds))"
   ]
  },
  {
   "cell_type": "markdown",
   "metadata": {},
   "source": [
    "## When decrease the testing data to be 10% of the Whole Dataset"
   ]
  },
  {
   "cell_type": "code",
   "execution_count": 27,
   "metadata": {},
   "outputs": [
    {
     "name": "stdout",
     "output_type": "stream",
     "text": [
      "Train classification accuracy 0.9696485623003195\n",
      "Test classification accuracy 0.9714285714285714\n",
      "# Underfitting\n"
     ]
    }
   ],
   "source": [
    "x= df[Best_features]    \n",
    "#x=df.drop(['Result_pose'],axis=1)\n",
    "y=df['Result_pose']\n",
    "from sklearn.model_selection import train_test_split\n",
    "X_train, X_test, y_train, y_test = train_test_split(x, y, random_state=0,test_size=0.1)\n",
    "\n",
    "knn2 = KNN(k=4)\n",
    "knn2.fit(X_train, y_train)\n",
    "train_preds = knn2.predict(X_train)\n",
    "test_preds = knn2.predict(X_test)\n",
    "\n",
    "print(\"Train classification accuracy\", knn2.accuracy(y_train, train_preds))\n",
    "print(\"Test classification accuracy\", knn2.accuracy(y_test, test_preds))\n",
    "print('# Underfitting')"
   ]
  },
  {
   "cell_type": "code",
   "execution_count": 28,
   "metadata": {},
   "outputs": [
    {
     "name": "stdout",
     "output_type": "stream",
     "text": [
      "[[25  0  0]\n",
      " [ 0 31  0]\n",
      " [ 0  2 12]]\n",
      "Report=                precision    recall  f1-score   support\n",
      "\n",
      "           0       1.00      1.00      1.00        25\n",
      "           1       0.94      1.00      0.97        31\n",
      "           2       1.00      0.86      0.92        14\n",
      "\n",
      "    accuracy                           0.97        70\n",
      "   macro avg       0.98      0.95      0.96        70\n",
      "weighted avg       0.97      0.97      0.97        70\n",
      "\n"
     ]
    }
   ],
   "source": [
    "from sklearn.metrics import confusion_matrix\n",
    "confusion = confusion_matrix(y_test, test_preds)\n",
    "print(confusion)\n",
    "print(\"Report= \" ,  classification_report(y_test, test_preds))\n"
   ]
  },
  {
   "cell_type": "markdown",
   "metadata": {},
   "source": [
    "## Cross Validation"
   ]
  },
  {
   "cell_type": "code",
   "execution_count": 35,
   "metadata": {},
   "outputs": [
    {
     "name": "stdout",
     "output_type": "stream",
     "text": [
      "[0.9748201438848921, 0.9730700179533214, 0.9730700179533214, 0.9730700179533214, 0.9622980251346499]\n",
      "hello\n"
     ]
    }
   ],
   "source": [
    "from sklearn.model_selection import StratifiedKFold\n",
    "x= df[Best_features].values    \n",
    "#x=df.drop(['Result_pose'],axis=1)\n",
    "y=df['Result_pose'].values\n",
    "\n",
    "num_splits=5\n",
    "Kfold = StratifiedKFold(num_splits , shuffle= True , random_state=1)\n",
    "train_accs, test_accs=[],[]\n",
    "\n",
    "for train_index , test_index in Kfold.split(x,y):\n",
    "    X_train ,X_test = x[train_index] , x[test_index]\n",
    "    y_train ,y_test = y[train_index] , y[test_index]\n",
    "\n",
    "    knn2 = KNN(k=4)\n",
    "    knn2.fit(X_train, y_train)\n",
    "    train_preds = knn2.predict(X_train)\n",
    "    test_preds = knn2.predict(X_test)\n",
    "\n",
    "    Train_accuracy=  knn2.accuracy(y_train, train_preds)\n",
    "    train_accs.append(Train_accuracy)\n",
    "    \n",
    "    Test_accuracy= knn2.accuracy(y_test, test_preds)\n",
    "    test_accs.append(Test_accuracy)\n",
    "    \n",
    "print(train_accs)    \n"
   ]
  },
  {
   "cell_type": "code",
   "execution_count": 49,
   "metadata": {},
   "outputs": [
    {
     "name": "stdout",
     "output_type": "stream",
     "text": [
      "Train Acc 0.9712656445759014\n",
      "Test Acc 0.9281911613566289\n"
     ]
    }
   ],
   "source": [
    "train_accs_avg=0\n",
    "test_accs_avg =0\n",
    "for i in range(num_splits):\n",
    "    train_accs_avg += train_accs[i] /num_splits\n",
    "    test_accs_avg += test_accs[i] /num_splits\n",
    "\n",
    "print('Train Acc',train_accs_avg)\n",
    "print('Test Acc',test_accs_avg)"
   ]
  },
  {
   "cell_type": "markdown",
   "metadata": {},
   "source": [
    "# Conclusion\n",
    "\n",
    "### if you wanted to increase overfitting :) you can do this by :\n",
    "#### 1- Don't use Feature extraction\n",
    "#### 2- Don't removing Outlier.\n",
    "#### 3- Decrease K values .\n",
    "#### 4- change ratio of train and test split from 80:20 to  70:30 \n",
    "\n",
    "**Acknowledgement:**With this Dataset cross validation was not the best solution because of the nature of the data .\n",
    "\n"
   ]
  },
  {
   "cell_type": "markdown",
   "metadata": {},
   "source": [
    "# Resources :\n",
    "\n",
    "Algorithm's idea : https://towardsdatascience.com/machine-learning-basics-with-the-k-nearest-neighbors-algorithm-6a6e71d01761\n",
    "\n",
    "EDA              : https://www.kaggle.com/ekami66/detailed-exploratory-data-analysis-with-python\n",
    "\n",
    "Implementation   : https://www.youtube.com/watch?v=OGxgnH8y2NM&list=PLQVvvaa0QuDfKTOs3Keq_kaG2P55YRn5v\n",
    "\n",
    "Using sklearn    : https://towardsdatascience.com/building-a-k-nearest-neighbors-k-nn-model-with-scikit-learn-51209555453a\n",
    "\n",
    "Dataset          : https://www.kaggle.com/jorgemora/classification-of-human-poses-keypoints"
   ]
  },
  {
   "cell_type": "code",
   "execution_count": null,
   "metadata": {},
   "outputs": [],
   "source": []
  }
 ],
 "metadata": {
  "kernelspec": {
   "display_name": "Python 3",
   "language": "python",
   "name": "python3"
  },
  "language_info": {
   "codemirror_mode": {
    "name": "ipython",
    "version": 3
   },
   "file_extension": ".py",
   "mimetype": "text/x-python",
   "name": "python",
   "nbconvert_exporter": "python",
   "pygments_lexer": "ipython3",
   "version": "3.8.5"
  }
 },
 "nbformat": 4,
 "nbformat_minor": 4
}
